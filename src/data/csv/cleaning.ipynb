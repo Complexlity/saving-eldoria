{
 "cells": [
  {
   "cell_type": "code",
   "execution_count": 2,
   "id": "51da94c0",
   "metadata": {},
   "outputs": [],
   "source": [
    "import pandas as pd"
   ]
  },
  {
   "cell_type": "code",
   "execution_count": 3,
   "id": "0aa4add0",
   "metadata": {},
   "outputs": [],
   "source": [
    "#Read CSV File\n",
    "df = pd.read_csv('./pokemon_initial.csv')\n"
   ]
  },
  {
   "cell_type": "code",
   "execution_count": 4,
   "id": "695e0134",
   "metadata": {},
   "outputs": [],
   "source": [
    "# Remove any rows that might be duplicates\n",
    "df = df.drop_duplicates()"
   ]
  },
  {
   "cell_type": "code",
   "execution_count": 5,
   "id": "6c92c5c2",
   "metadata": {},
   "outputs": [],
   "source": [
    "# Remove unused column\n",
    "df.drop(\"Unnamed: 0\", axis=1, inplace=True)"
   ]
  },
  {
   "cell_type": "code",
   "execution_count": 6,
   "id": "25e75d8b",
   "metadata": {},
   "outputs": [],
   "source": [
    "df = df.dropna()\n",
    "\n",
    "# Reset the index of the DataFrame\n",
    "df = df.reset_index(drop=True)\n"
   ]
  },
  {
   "cell_type": "code",
   "execution_count": null,
   "id": "2cd8577b",
   "metadata": {
    "collapsed": true
   },
   "outputs": [],
   "source": [
    "# # Replace non-numeric rows with empty (NaN or '') with 'Unknown'\n",
    "# df[\"Type1\"].fillna(\"Unknown\", inplace=True)\n",
    "# df[\"Type2\"].fillna(\"Unknown\", inplace=True)\n",
    "# df[\"image_url\"].fillna(\"Unknown\", inplace=True)\n",
    "# df[\"Names\"].fillna(\"Unknown\", inplace=True)\n",
    "\n",
    "# # Fill missing values in numeric columns with median of that column\n",
    "# numeric_columns = [\"Total\", \"HP\", \"Attack\", \"Defense\", \"Sp. Atk\", \"Sp. Def\", \"Speed\"]\n",
    "# df[numeric_columns] = df[numeric_columns].fillna(df[numeric_columns].median())\n",
    "\n",
    "# # Reset the index of the DataFrame\n",
    "# df.reset_index(drop=True, inplace=True)\n",
    "\n",
    "\n",
    "# df"
   ]
  },
  {
   "cell_type": "code",
   "execution_count": 7,
   "id": "7e0de8f9",
   "metadata": {},
   "outputs": [],
   "source": [
    "# Put cleaned data in it's own csv \n",
    "df.to_csv(\"pokemon.csv\", index=False)"
   ]
  },
  {
   "cell_type": "code",
   "execution_count": null,
   "id": "e37f91a4",
   "metadata": {},
   "outputs": [],
   "source": []
  }
 ],
 "metadata": {
  "kernelspec": {
   "display_name": "Python 3 (ipykernel)",
   "language": "python",
   "name": "python3"
  },
  "language_info": {
   "codemirror_mode": {
    "name": "ipython",
    "version": 3
   },
   "file_extension": ".py",
   "mimetype": "text/x-python",
   "name": "python",
   "nbconvert_exporter": "python",
   "pygments_lexer": "ipython3",
   "version": "3.9.12"
  }
 },
 "nbformat": 4,
 "nbformat_minor": 5
}
